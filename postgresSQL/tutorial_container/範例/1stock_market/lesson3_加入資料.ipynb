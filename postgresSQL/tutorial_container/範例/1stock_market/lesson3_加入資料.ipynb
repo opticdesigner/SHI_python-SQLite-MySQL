{
 "cells": [
  {
   "cell_type": "code",
   "execution_count": 4,
   "metadata": {},
   "outputs": [],
   "source": [
    "#加入台灣市場資料\n",
    "import psycopg2\n",
    "import os\n",
    "conn = psycopg2.connect(host=\"localhost\",database='stock_market',user=os.environ[\"POSTGRES_USER\"],password=os.environ[\"POSTGRES_PASSWORD\"])\n",
    "\n",
    "with conn: #如果沒有raise exception 就自動執行commit, 沒有就自動執行rollback\n",
    "    with conn.cursor() as cursor: #自動關閉cursor\n",
    "      #建立市場資料表\n",
    "        sql = '''\n",
    "            INSERT INTO 市場 values (%s,%s)\n",
    "            ON CONFLICT DO NOTHING;              \n",
    "        '''\n",
    "        cursor.execute(sql,['^TWII','台灣'])\n",
    "conn.close()"
   ]
  },
  {
   "cell_type": "code",
   "execution_count": 5,
   "metadata": {},
   "outputs": [
    {
     "name": "stderr",
     "output_type": "stream",
     "text": [
      "[*********************100%%**********************]  1 of 1 completed\n"
     ]
    },
    {
     "ename": "NumericValueOutOfRange",
     "evalue": "numeric field overflow\nDETAIL:  A field with precision 7, scale 6 must round to an absolute value less than 10^1.\n",
     "output_type": "error",
     "traceback": [
      "\u001b[0;31m---------------------------------------------------------------------------\u001b[0m",
      "\u001b[0;31mNumericValueOutOfRange\u001b[0m                    Traceback (most recent call last)",
      "Cell \u001b[0;32mIn[5], line 30\u001b[0m\n\u001b[1;32m     25\u001b[0m             name \u001b[38;5;241m=\u001b[39m \u001b[38;5;124m'\u001b[39m\u001b[38;5;124m^TWII\u001b[39m\u001b[38;5;124m'\u001b[39m\n\u001b[1;32m     26\u001b[0m             sql \u001b[38;5;241m=\u001b[39m \u001b[38;5;124m'''\u001b[39m\n\u001b[1;32m     27\u001b[0m \u001b[38;5;124m            INSERT INTO 股市(date,open,high,low,close,adj_close,volume,name) \u001b[39m\n\u001b[1;32m     28\u001b[0m \u001b[38;5;124m            values(\u001b[39m\u001b[38;5;132;01m%s\u001b[39;00m\u001b[38;5;124m,\u001b[39m\u001b[38;5;132;01m%s\u001b[39;00m\u001b[38;5;124m,\u001b[39m\u001b[38;5;132;01m%s\u001b[39;00m\u001b[38;5;124m,\u001b[39m\u001b[38;5;132;01m%s\u001b[39;00m\u001b[38;5;124m,\u001b[39m\u001b[38;5;132;01m%s\u001b[39;00m\u001b[38;5;124m,\u001b[39m\u001b[38;5;132;01m%s\u001b[39;00m\u001b[38;5;124m,\u001b[39m\u001b[38;5;132;01m%s\u001b[39;00m\u001b[38;5;124m,\u001b[39m\u001b[38;5;132;01m%s\u001b[39;00m\u001b[38;5;124m)\u001b[39m\n\u001b[1;32m     29\u001b[0m \u001b[38;5;124m            \u001b[39m\u001b[38;5;124m'''\u001b[39m\n\u001b[0;32m---> 30\u001b[0m             \u001b[43mcursor\u001b[49m\u001b[38;5;241;43m.\u001b[39;49m\u001b[43mexecute\u001b[49m\u001b[43m(\u001b[49m\u001b[43msql\u001b[49m\u001b[43m,\u001b[49m\u001b[43m[\u001b[49m\u001b[43mdate\u001b[49m\u001b[43m,\u001b[49m\u001b[38;5;28;43mopen\u001b[39;49m\u001b[43m,\u001b[49m\u001b[43mhigh\u001b[49m\u001b[43m,\u001b[49m\u001b[43mlow\u001b[49m\u001b[43m,\u001b[49m\u001b[43mclose\u001b[49m\u001b[43m,\u001b[49m\u001b[43madj_close\u001b[49m\u001b[43m,\u001b[49m\u001b[43mvolume\u001b[49m\u001b[43m,\u001b[49m\u001b[43mname\u001b[49m\u001b[43m]\u001b[49m\u001b[43m)\u001b[49m       \n\u001b[1;32m     32\u001b[0m conn\u001b[38;5;241m.\u001b[39mclose()\n",
      "\u001b[0;31mNumericValueOutOfRange\u001b[0m: numeric field overflow\nDETAIL:  A field with precision 7, scale 6 must round to an absolute value less than 10^1.\n"
     ]
    }
   ],
   "source": [
    "import pandas_datareader.data as web\n",
    "import yfinance as yf\n",
    "from decimal import Decimal\n",
    "yf.pdr_override()\n",
    "\n",
    "from datetime import datetime\n",
    "#使用index比較符合我們的需求\n",
    "taiwan = web.get_data_yahoo('^TWII')\n",
    "all_data = taiwan.to_dict(orient='index')\n",
    "conn = psycopg2.connect(host=\"localhost\",database='stock_market',user=os.environ[\"POSTGRES_USER\"],password=os.environ[\"POSTGRES_PASSWORD\"])\n",
    "#先取出key,再一筆一筆取出資料\n",
    "with conn:\n",
    "    for key,value in all_data.items():\n",
    "        with conn.cursor() as cursor:\n",
    "            #對應型別參考\n",
    "            #https://www.psycopg.org/docs/usage.html#adaptation-of-python-values-to-sql-types    \n",
    "\n",
    "            date = key.date() #datetime to date\n",
    "            open = Decimal(value['Open'])\n",
    "            high = Decimal(value['High'])\n",
    "            low = Decimal(value['Low'])\n",
    "            close = Decimal(value['Close'])\n",
    "            adj_close = Decimal(value['Adj Close'])\n",
    "            volume = int(value['Volume'])\n",
    "            name = '^TWII'\n",
    "            sql = '''\n",
    "            INSERT INTO 股市(date,open,high,low,close,adj_close,volume,name) \n",
    "            values(%s,%s,%s,%s,%s,%s,%s,%s)\n",
    "            '''\n",
    "            cursor.execute(sql,[date,open,high,low,close,adj_close,volume,name])       \n",
    "\n",
    "conn.close()\n"
   ]
  },
  {
   "cell_type": "code",
   "execution_count": 5,
   "metadata": {},
   "outputs": [],
   "source": [
    "#加入香港市場資料\n",
    "import psycopg2\n",
    "import os\n",
    "conn = psycopg2.connect(host=\"localhost\",database='stock_market',user=os.environ[\"POSTGRES_USER\"],password=os.environ[\"POSTGRES_PASSWORD\"])\n",
    "\n",
    "with conn: #如果沒有raise exception 就自動執行commit, 沒有就自動執行rollback\n",
    "    with conn.cursor() as cursor: #自動關閉cursor\n",
    "      #建立市場資料表\n",
    "        sql = '''\n",
    "            INSERT INTO 市場 values (%s,%s)\n",
    "            ON CONFLICT DO NOTHING;              \n",
    "        '''\n",
    "        cursor.execute(sql,['^HSI','香港恒生'])\n",
    "conn.close()"
   ]
  },
  {
   "cell_type": "code",
   "execution_count": 6,
   "metadata": {},
   "outputs": [
    {
     "name": "stderr",
     "output_type": "stream",
     "text": [
      "/home/vscode/.local/lib/python3.10/site-packages/yfinance/utils.py:775: FutureWarning: The 'unit' keyword in TimedeltaIndex construction is deprecated and will be removed in a future version. Use pd.to_timedelta instead.\n",
      "  df.index += _pd.TimedeltaIndex(dst_error_hours, 'h')\n",
      "[*********************100%%**********************]  1 of 1 completed\n"
     ]
    }
   ],
   "source": [
    "import pandas_datareader.data as web\n",
    "import yfinance as yf\n",
    "from decimal import Decimal\n",
    "yf.pdr_override()\n",
    "\n",
    "from datetime import datetime\n",
    "#使用index比較符合我們的需求\n",
    "taiwan = web.get_data_yahoo('^HSI')\n",
    "all_data = taiwan.to_dict(orient='index')\n",
    "conn = psycopg2.connect(host=\"localhost\",database='stock_market',user=os.environ[\"POSTGRES_USER\"],password=os.environ[\"POSTGRES_PASSWORD\"])\n",
    "#先取出key,再一筆一筆取出資料\n",
    "with conn:\n",
    "    for key,value in all_data.items():\n",
    "        with conn.cursor() as cursor:\n",
    "            #對應型別參考\n",
    "            #https://www.psycopg.org/docs/usage.html#adaptation-of-python-values-to-sql-types    \n",
    "\n",
    "            date = key.date() #datetime to date\n",
    "            open = Decimal(value['Open'])\n",
    "            high = Decimal(value['High'])\n",
    "            low = Decimal(value['Low'])\n",
    "            close = Decimal(value['Close'])\n",
    "            adj_close = Decimal(value['Adj Close'])\n",
    "            volume = int(value['Volume'])\n",
    "            name = '^HSI'\n",
    "            sql = '''\n",
    "            INSERT INTO 股市(date,open,high,low,close,adj_close,volume,name) \n",
    "            values(%s,%s,%s,%s,%s,%s,%s,%s)\n",
    "            '''\n",
    "            cursor.execute(sql,[date,open,high,low,close,adj_close,volume,name])       \n",
    "\n",
    "conn.close()"
   ]
  }
 ],
 "metadata": {
  "kernelspec": {
   "display_name": "Python 3",
   "language": "python",
   "name": "python3"
  },
  "language_info": {
   "codemirror_mode": {
    "name": "ipython",
    "version": 3
   },
   "file_extension": ".py",
   "mimetype": "text/x-python",
   "name": "python",
   "nbconvert_exporter": "python",
   "pygments_lexer": "ipython3",
   "version": "3.10.14"
  }
 },
 "nbformat": 4,
 "nbformat_minor": 2
}
