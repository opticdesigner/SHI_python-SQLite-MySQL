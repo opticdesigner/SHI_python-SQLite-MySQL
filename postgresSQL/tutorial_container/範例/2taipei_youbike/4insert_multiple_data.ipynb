{
 "cells": [
  {
   "cell_type": "code",
   "execution_count": null,
   "metadata": {},
   "outputs": [],
   "source": [
    "#下載台北市youbike資料\n",
    "import requests\n",
    "response = requests.get('https://tcgbusfs.blob.core.windows.net/dotapp/youbike/v2/youbike_immediate.json')\n",
    "response.encoding = 'utf-8'\n",
    "youbikeData = response.json()\n",
    "youbikeData"
   ]
  },
  {
   "cell_type": "code",
   "execution_count": 3,
   "metadata": {},
   "outputs": [],
   "source": [
    "import psycopg2\n",
    "import os\n",
    "conn = psycopg2.connect(host=\"localhost\",database='postgres',user=os.environ[\"POSTGRES_USER\"],password=os.environ[\"POSTGRES_PASSWORD\"])\n",
    "\n",
    "with conn:\n",
    "    with conn.cursor() as cursor:\n",
    "        #insert站點資訊\n",
    "        for site in youbikeData:\n",
    "            sql = '''\n",
    "                INSERT INTO 站點資訊 \n",
    "                VALUES(%s,%s,%s,%s,%s,%s)\n",
    "                ON CONFLICT DO NOTHING;\n",
    "            '''\n",
    "            cursor.execute(sql,(site['sno'],site['sna'],site['sarea'],site['ar'],site['lat'],site['lng']))\n",
    "\n",
    "            #插入youbike資訊\n",
    "            sql = '''\n",
    "                INSERT INTO youbike\n",
    "                VALUES(%s,%s,%s,%s,%s,%s)\n",
    "                ON CONFLICT DO NOTHING;\n",
    "            '''\n",
    "            cursor.execute(sql,(site['mday'],site['sno'],site['tot'],site['sbi'],site['bemp'],bool(site['act'])))\n",
    "\n",
    "\n",
    "conn.close()"
   ]
  }
 ],
 "metadata": {
  "kernelspec": {
   "display_name": "Python 3",
   "language": "python",
   "name": "python3"
  },
  "language_info": {
   "codemirror_mode": {
    "name": "ipython",
    "version": 3
   },
   "file_extension": ".py",
   "mimetype": "text/x-python",
   "name": "python",
   "nbconvert_exporter": "python",
   "pygments_lexer": "ipython3",
   "version": "3.10.14"
  }
 },
 "nbformat": 4,
 "nbformat_minor": 2
}
