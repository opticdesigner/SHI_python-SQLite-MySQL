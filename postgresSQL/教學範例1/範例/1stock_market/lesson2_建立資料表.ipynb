{
 "cells": [
  {
   "cell_type": "code",
   "execution_count": 1,
   "metadata": {},
   "outputs": [
    {
     "name": "stdout",
     "output_type": "stream",
     "text": [
      "連線\n"
     ]
    }
   ],
   "source": [
    "import psycopg2\n",
    "import os\n",
    "#連線資料庫\n",
    "#參考文件\n",
    "#https://www.psycopg.org/docs/usage.html#\n",
    "\n",
    "with psycopg2.connect(host=\"localhost\",database='stock_market',user=os.environ[\"POSTGRES_USER\"],password=os.environ[\"POSTGRES_PASSWORD\"]) as conn:\n",
    "   print(\"連線\")"
   ]
  },
  {
   "cell_type": "code",
   "execution_count": 4,
   "metadata": {},
   "outputs": [],
   "source": [
    "#create_table\n",
    "import psycopg2\n",
    "import os\n",
    "conn = psycopg2.connect(host=\"localhost\",database='stock_market',user=os.environ[\"POSTGRES_USER\"],password=os.environ[\"POSTGRES_PASSWORD\"])\n",
    "\n",
    "#參考文件\n",
    "#https://www.psycopg.org/docs/usage.html#transactions-control\n",
    "\n",
    "with conn: #如果沒有raise exception 就自動執行commit, 沒有就自動執行rollback\n",
    "    with conn.cursor() as cursor: #自動關閉cursor\n",
    "      #建立市場資料表\n",
    "        sql = '''\n",
    "            CREATE TABLE IF NOT EXISTS 市場(\n",
    "            name VARCHAR(20),\n",
    "            country VARCHAR(20),\n",
    "            PRIMARY KEY(name)\n",
    "            );\n",
    "        '''\n",
    "        cursor.execute(sql)\n",
    "    \n",
    "    with conn.cursor() as cursor:#自動關閉cursor\n",
    "        #建立股市資料表\n",
    "        sql = '''\n",
    "            CREATE TABLE IF NOT EXISTS 股市(\n",
    "            stock_id SERIAL,\n",
    "            date DATE,\n",
    "            open NUMERIC(7,6),\n",
    "            high NUMERIC(7,6),\n",
    "            low NUMERIC(7,6),\n",
    "            close NUMERIC(7,6),\n",
    "            adj_close NUMERIC(7,6),\n",
    "            volume BIGINT DEFAULT 0,\n",
    "            name VARCHAR(20),\n",
    "            PRIMARY KEY(stock_id),\n",
    "            FOREIGN KEY(name) REFERENCES 市場(name) \n",
    "            ON DELETE NO ACTION\n",
    "            ON UPDATE CASCADE\n",
    "            );\n",
    "        '''\n",
    "        cursor.execute(sql) \n",
    "\n",
    "conn.close()\n"
   ]
  },
  {
   "cell_type": "code",
   "execution_count": null,
   "metadata": {},
   "outputs": [],
   "source": [
    "#建立資料表\n",
    "import psycopg2\n",
    "import os\n",
    "conn = psycopg2.connect(host=\"localhost\",database='stock_market',user=os.environ[\"POSTGRES_USER\"],password=os.environ[\"POSTGRES_PASSWORD\"])\n",
    "\n",
    "#參考文件\n",
    "#https://www.psycopg.org/docs/usage.html#transactions-control\n",
    "\n",
    "with conn: #如果沒有raise exception 就自動執行commit, 沒有就自動執行rollback\n",
    "    with conn.cursor() as cursor: #自動關閉cursor\n",
    "      #建立市場資料表\n",
    "        sql = '''\n",
    "            CREATE TABLE IF NOT EXISTS 市場(\n",
    "            name VARCHAR(20),\n",
    "            country VARCHAR(20),\n",
    "            PRIMARY KEY(name)\n",
    "            );\n",
    "        '''\n",
    "        cursor.execute(sql)\n",
    "    \n",
    "    with conn.cursor() as cursor:#自動關閉cursor\n",
    "        #建立股市資料表\n",
    "        sql = '''\n",
    "            CREATE TABLE IF NOT EXISTS 股市(\n",
    "            stock_id SERIAL,\n",
    "            date DATE,\n",
    "            open NUMERIC(7,6),\n",
    "            high NUMERIC(7,6),\n",
    "            low NUMERIC(7,6),\n",
    "            close NUMERIC(7,6),\n",
    "            adj_close NUMERIC(7,6),\n",
    "            volume BIGINT DEFAULT 0,\n",
    "            name VARCHAR(20),\n",
    "            PRIMARY KEY(stock_id),\n",
    "            FOREIGN KEY(name) REFERENCES 市場(name) \n",
    "            ON DELETE NO ACTION\n",
    "            ON UPDATE CASCADE\n",
    "            );\n",
    "        '''\n",
    "        cursor.execute(sql) \n",
    "\n",
    "conn.close()"
   ]
  }
 ],
 "metadata": {
  "kernelspec": {
   "display_name": "Python 3",
   "language": "python",
   "name": "python3"
  },
  "language_info": {
   "codemirror_mode": {
    "name": "ipython",
    "version": 3
   },
   "file_extension": ".py",
   "mimetype": "text/x-python",
   "name": "python",
   "nbconvert_exporter": "python",
   "pygments_lexer": "ipython3",
   "version": "3.10.13"
  }
 },
 "nbformat": 4,
 "nbformat_minor": 2
}
