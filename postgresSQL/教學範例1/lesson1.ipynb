{
 "cells": [
  {
   "cell_type": "code",
   "execution_count": 1,
   "metadata": {},
   "outputs": [
    {
     "name": "stdout",
     "output_type": "stream",
     "text": [
      "連線\n"
     ]
    }
   ],
   "source": [
    "import psycopg2\n",
    "\n",
    "import os\n",
    "with psycopg2.connect(host=\"localhost\",database=os.environ[\"POSTGRES_DB\"],user=os.environ[\"POSTGRES_USER\"],password=os.environ[\"POSTGRES_PASSWORD\"]) as conn:\n",
    "   print(\"連線\")"
   ]
  },
  {
   "cell_type": "code",
   "execution_count": 1,
   "metadata": {},
   "outputs": [
    {
     "name": "stdout",
     "output_type": "stream",
     "text": [
      "{'BROWSER': '/vscode/vscode-server/bin/linux-arm64/31c37ee8f63491495ac49e43b8544550fbae4533/bin/helpers/browser.sh',\n",
      " 'CLICOLOR': '1',\n",
      " 'CLICOLOR_FORCE': '1',\n",
      " 'ELECTRON_RUN_AS_NODE': '1',\n",
      " 'FORCE_COLOR': '1',\n",
      " 'GIT_PAGER': 'cat',\n",
      " 'GPG_KEY': 'A035C8C19219BA821ECEA86B64E628F8D684696D',\n",
      " 'HOME': '/home/vscode',\n",
      " 'HOSTNAME': '7afd07955d0e',\n",
      " 'LANG': 'C.UTF-8',\n",
      " 'LS_COLORS': '',\n",
      " 'MPLBACKEND': 'module://matplotlib_inline.backend_inline',\n",
      " 'NVM_CD_FLAGS': '',\n",
      " 'NVM_DIR': '/usr/local/share/nvm',\n",
      " 'NVM_RC_VERSION': '',\n",
      " 'NVM_SYMLINK_CURRENT': 'true',\n",
      " 'PAGER': 'cat',\n",
      " 'PATH': '/usr/local/bin:/vscode/vscode-server/bin/linux-arm64/31c37ee8f63491495ac49e43b8544550fbae4533/bin/remote-cli:/home/vscode/.local/bin:/usr/local/python/current/bin:/usr/local/py-utils/bin:/usr/local/share/nvm/current/bin:/usr/local/bin:/usr/local/python/current/bin:/usr/local/py-utils/bin:/usr/local/share/nvm/current/bin:/usr/local/bin:/usr/local/sbin:/usr/local/bin:/usr/sbin:/usr/bin:/sbin:/bin:/home/vscode/.local/bin:/vscode/vscode-server/bin/linux-arm64/31c37ee8f63491495ac49e43b8544550fbae4533/bin/remote-cli:/home/vscode/.local/bin:/usr/local/python/current/bin:/usr/local/py-utils/bin:/usr/local/share/nvm/current/bin:/usr/local/bin:/usr/local/python/current/bin:/usr/local/py-utils/bin:/usr/local/share/nvm/current/bin:/usr/local/bin:/usr/local/sbin:/usr/local/bin:/usr/sbin:/usr/bin:/sbin:/bin:/home/vscode/.local/bin',\n",
      " 'PIPX_BIN_DIR': '/usr/local/py-utils/bin',\n",
      " 'PIPX_HOME': '/usr/local/py-utils',\n",
      " 'POSTGRES_DB': 'postgres',\n",
      " 'POSTGRES_PASSWORD': 'postgres',\n",
      " 'POSTGRES_USER': 'postgres',\n",
      " 'PROMPT_DIRTRIM': '4',\n",
      " 'PWD': '/vscode/vscode-server/bin/linux-arm64/31c37ee8f63491495ac49e43b8544550fbae4533',\n",
      " 'PYDEVD_IPYTHON_COMPATIBLE_DEBUGGING': '1',\n",
      " 'PYDEVD_USE_FRAME_EVAL': 'NO',\n",
      " 'PYTHONIOENCODING': 'utf-8',\n",
      " 'PYTHONUNBUFFERED': '1',\n",
      " 'PYTHON_GET_PIP_SHA256': '9cc01665956d22b3bf057ae8287b035827bfd895da235bcea200ab3b811790b6',\n",
      " 'PYTHON_GET_PIP_URL': 'https://github.com/pypa/get-pip/raw/4cfa4081d27285bda1220a62a5ebf5b4bd749cdb/public/get-pip.py',\n",
      " 'PYTHON_PATH': '/usr/local/python/current',\n",
      " 'PYTHON_PIP_VERSION': '23.0.1',\n",
      " 'PYTHON_SETUPTOOLS_VERSION': '65.5.1',\n",
      " 'PYTHON_VERSION': '3.10.13',\n",
      " 'REMOTE_CONTAINERS': 'true',\n",
      " 'REMOTE_CONTAINERS_IPC': '/tmp/vscode-remote-containers-ipc-063265e0-38d8-41e8-95fb-fb1ed19d670b.sock',\n",
      " 'REMOTE_CONTAINERS_SOCKETS': '[\"/tmp/vscode-ssh-auth-063265e0-38d8-41e8-95fb-fb1ed19d670b.sock\"]',\n",
      " 'SHELL': '/bin/bash',\n",
      " 'SHLVL': '1',\n",
      " 'SSH_AUTH_SOCK': '/tmp/vscode-ssh-auth-063265e0-38d8-41e8-95fb-fb1ed19d670b.sock',\n",
      " 'TERM': 'xterm-color',\n",
      " 'USER': 'vscode',\n",
      " 'VSCODE_AGENT_FOLDER': '/home/vscode/.vscode-server',\n",
      " 'VSCODE_AMD_ENTRYPOINT': 'vs/workbench/api/node/extensionHostProcess',\n",
      " 'VSCODE_CWD': '/vscode/vscode-server/bin/linux-arm64/31c37ee8f63491495ac49e43b8544550fbae4533',\n",
      " 'VSCODE_HANDLES_SIGPIPE': 'true',\n",
      " 'VSCODE_HANDLES_UNCAUGHT_ERRORS': 'true',\n",
      " 'VSCODE_IPC_HOOK_CLI': '/tmp/vscode-ipc-46024101-a294-46cf-8eea-1aeba4f739ac.sock',\n",
      " 'VSCODE_L10N_BUNDLE_LOCATION': 'vscode-local:/Users/robert_hsu/.vscode/extensions/ms-ceintl.vscode-language-pack-zh-hant-1.85.2024020709/translations/extensions/vscode.json-language-features.i18n.json',\n",
      " 'VSCODE_NLS_CONFIG': '{\"locale\":\"zh-tw\",\"osLocale\":\"zh-tw\",\"availableLanguages\":{\"*\":\"zh-tw\"},\"_languagePackId\":\"065a2f180b58687e05c6f129a4adf7fd.zh-tw\",\"_translationsConfigFile\":\"/home/vscode/.vscode-server/data/clp/065a2f180b58687e05c6f129a4adf7fd.zh-tw/tcf.json\",\"_cacheRoot\":\"/home/vscode/.vscode-server/data/clp/065a2f180b58687e05c6f129a4adf7fd.zh-tw\",\"_resolvedLanguagePackCoreLocation\":\"/home/vscode/.vscode-server/data/clp/065a2f180b58687e05c6f129a4adf7fd.zh-tw/31c37ee8f63491495ac49e43b8544550fbae4533\",\"_corruptedFile\":\"/home/vscode/.vscode-server/data/clp/065a2f180b58687e05c6f129a4adf7fd.zh-tw/corrupted.info\",\"_languagePackSupport\":true}',\n",
      " '_': '/bin/cat'}\n"
     ]
    }
   ],
   "source": [
    "import os\n",
    "import pprint\n",
    "\n",
    "env_var = os.environ\n",
    "pprint.pprint(dict(env_var), width = 1)"
   ]
  }
 ],
 "metadata": {
  "kernelspec": {
   "display_name": "Python 3",
   "language": "python",
   "name": "python3"
  },
  "language_info": {
   "codemirror_mode": {
    "name": "ipython",
    "version": 3
   },
   "file_extension": ".py",
   "mimetype": "text/x-python",
   "name": "python",
   "nbconvert_exporter": "python",
   "pygments_lexer": "ipython3",
   "version": "3.10.13"
  }
 },
 "nbformat": 4,
 "nbformat_minor": 2
}
