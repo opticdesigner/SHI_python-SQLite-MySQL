{
 "cells": [
  {
   "cell_type": "markdown",
   "metadata": {},
   "source": [
    "### 建立資料庫"
   ]
  },
  {
   "cell_type": "code",
   "execution_count": 3,
   "metadata": {},
   "outputs": [
    {
     "name": "stdout",
     "output_type": "stream",
     "text": [
      "開啟資料庫成功\n"
     ]
    }
   ],
   "source": [
    "import sqlite3\n",
    "conn = sqlite3.connect('example.db')\n",
    "print(\"開啟資料庫成功\")"
   ]
  },
  {
   "cell_type": "markdown",
   "metadata": {},
   "source": [
    "### 建立資料表"
   ]
  },
  {
   "cell_type": "code",
   "execution_count": 6,
   "metadata": {},
   "outputs": [
    {
     "name": "stdout",
     "output_type": "stream",
     "text": [
      "開啟資料庫成功\n",
      "company資料表建立\n"
     ]
    }
   ],
   "source": [
    "import sqlite3\n",
    "conn = sqlite3.connect('example.db')\n",
    "print(\"開啟資料庫成功\")\n",
    "\n",
    "c = conn.cursor()\n",
    "c.execute('''CREATE TABLE COMPANY\n",
    "(ID INT PRIMARY KEY NOT NULL,\n",
    "NAME TEXT NOT NULL,\n",
    "AGE INT NOT NULL,\n",
    "ADDRESS CHAR(50),\n",
    "SALARY REAL);\n",
    "''')\n",
    "print(\"company資料表建立\")\n",
    "conn.commit()\n",
    "conn.close()"
   ]
  },
  {
   "cell_type": "markdown",
   "metadata": {},
   "source": [
    "INSERT 操作"
   ]
  },
  {
   "cell_type": "code",
   "execution_count": 7,
   "metadata": {},
   "outputs": [
    {
     "name": "stdout",
     "output_type": "stream",
     "text": [
      "開啟資料庫成功\n",
      "4筆資料建立成功\n"
     ]
    }
   ],
   "source": [
    "import sqlite3\n",
    "conn = sqlite3.connect('example.db')\n",
    "print(\"開啟資料庫成功\")\n",
    "\n",
    "c = conn.cursor()\n",
    "\n",
    "c.execute(\"INSERT INTO COMPANY (ID,NAME,AGE,ADDRESS,SALARY) VALUES (1, 'Paul', 32, 'California', 20000.00 )\")\n",
    "c.execute(\"INSERT INTO COMPANY (ID,NAME,AGE,ADDRESS,SALARY) VALUES (2, 'Allen', 25, 'Texas', 15000.00)\")\n",
    "c.execute(\"INSERT INTO COMPANY (ID,NAME,AGE,ADDRESS,SALARY) VALUES (3, 'Teddy', 23, 'Norway', 20000.00)\")\n",
    "c.execute(\"INSERT INTO COMPANY (ID,NAME,AGE,ADDRESS,SALARY) VALUES (4, 'Mark', 25, 'Rich-Mond ', 65000.00)\")\n",
    "conn.commit()\n",
    "print(\"4筆資料建立成功\")\n",
    "conn.close()"
   ]
  },
  {
   "cell_type": "markdown",
   "metadata": {},
   "source": [
    "### 選取資料"
   ]
  },
  {
   "cell_type": "code",
   "execution_count": 8,
   "metadata": {},
   "outputs": [
    {
     "name": "stdout",
     "output_type": "stream",
     "text": [
      "開啟資料庫成功\n",
      "ID=1,Name=Paul,ADDRESS=California,SALARY=20000.00\n",
      "\n",
      "ID=2,Name=Allen,ADDRESS=Texas,SALARY=15000.00\n",
      "\n",
      "ID=3,Name=Teddy,ADDRESS=Norway,SALARY=20000.00\n",
      "\n",
      "ID=4,Name=Mark,ADDRESS=Rich-Mond ,SALARY=65000.00\n",
      "\n",
      "select 成功\n"
     ]
    }
   ],
   "source": [
    "import sqlite3\n",
    "conn = sqlite3.connect('example.db')\n",
    "print(\"開啟資料庫成功\")\n",
    "\n",
    "c = conn.cursor()\n",
    "cursor = c.execute(\"SELECT id, name, address, salary  from COMPANY\")\n",
    "for row in cursor:\n",
    "    print(\"ID={:d},Name={:s},ADDRESS={:s},SALARY={:.2f}\\n\".format(row[0], row[1], row[2], row[3]))\n",
    "print(\"select 成功\")\n",
    "conn.close()"
   ]
  },
  {
   "cell_type": "markdown",
   "metadata": {},
   "source": [
    "### UPDATE操作"
   ]
  },
  {
   "cell_type": "code",
   "execution_count": 10,
   "metadata": {},
   "outputs": [
    {
     "name": "stdout",
     "output_type": "stream",
     "text": [
      "開啟資料庫成功\n",
      "總共更改的筆數: 1\n",
      "ID=1,Name=Paul,ADDRESS=California,SALARY=25000.00\n",
      "\n",
      "ID=2,Name=Allen,ADDRESS=Texas,SALARY=15000.00\n",
      "\n",
      "ID=3,Name=Teddy,ADDRESS=Norway,SALARY=20000.00\n",
      "\n",
      "ID=4,Name=Mark,ADDRESS=Rich-Mond ,SALARY=65000.00\n",
      "\n",
      "select 成功\n"
     ]
    }
   ],
   "source": [
    "import sqlite3\n",
    "conn = sqlite3.connect('example.db')\n",
    "print(\"開啟資料庫成功\")\n",
    "c = conn.cursor()\n",
    "c.execute(\"UPDATE COMPANY set SALARY = 25000.00 where ID=1\")\n",
    "conn.commit()\n",
    "print(\"總共更改的筆數:\", conn.total_changes)\n",
    "cursor = c.execute(\"SELECT id, name, address, salary  from COMPANY\")\n",
    "for row in cursor:\n",
    "    print(\"ID={:d},Name={:s},ADDRESS={:s},SALARY={:.2f}\\n\".format(row[0], row[1], row[2], row[3]))\n",
    "print(\"select 成功\")\n",
    "conn.close()"
   ]
  },
  {
   "cell_type": "markdown",
   "metadata": {},
   "source": [
    "### DELETE操作"
   ]
  },
  {
   "cell_type": "code",
   "execution_count": 11,
   "metadata": {},
   "outputs": [
    {
     "name": "stdout",
     "output_type": "stream",
     "text": [
      "開啟資料庫成功\n",
      "總共更改的筆數: 1\n",
      "ID=1,Name=Paul,ADDRESS=California,SALARY=25000.00\n",
      "\n",
      "ID=3,Name=Teddy,ADDRESS=Norway,SALARY=20000.00\n",
      "\n",
      "ID=4,Name=Mark,ADDRESS=Rich-Mond ,SALARY=65000.00\n",
      "\n",
      "select 成功\n"
     ]
    }
   ],
   "source": [
    "import sqlite3\n",
    "conn = sqlite3.connect('example.db')\n",
    "print(\"開啟資料庫成功\")\n",
    "c = conn.cursor()\n",
    "\n",
    "c.execute(\"DELETE from COMPANY where ID=2;\")\n",
    "conn.commit()\n",
    "print(\"總共刪除的筆數:\", conn.total_changes)\n",
    "cursor = c.execute(\"SELECT id, name, address, salary  from COMPANY\")\n",
    "for row in cursor:\n",
    "    print(\"ID={:d},Name={:s},ADDRESS={:s},SALARY={:.2f}\\n\".format(row[0], row[1], row[2], row[3]))\n",
    "print(\"select 成功\")\n",
    "conn.close()"
   ]
  },
  {
   "cell_type": "code",
   "execution_count": null,
   "metadata": {},
   "outputs": [],
   "source": []
  }
 ],
 "metadata": {
  "kernelspec": {
   "display_name": "Python 3",
   "language": "python",
   "name": "python3"
  },
  "language_info": {
   "codemirror_mode": {
    "name": "ipython",
    "version": 3
   },
   "file_extension": ".py",
   "mimetype": "text/x-python",
   "name": "python",
   "nbconvert_exporter": "python",
   "pygments_lexer": "ipython3",
   "version": "3.8.3"
  }
 },
 "nbformat": 4,
 "nbformat_minor": 4
}
