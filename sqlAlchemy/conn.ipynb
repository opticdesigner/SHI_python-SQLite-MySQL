{
 "cells": [
  {
   "cell_type": "code",
   "execution_count": 33,
   "metadata": {},
   "outputs": [
    {
     "name": "stdout",
     "output_type": "stream",
     "text": [
      "['state', 'sex', 'age', 'pop2000', 'pop2008']\n",
      "Table('census', MetaData(), Column('state', VARCHAR(length=30), table=<census>), Column('sex', VARCHAR(length=1), table=<census>), Column('age', INTEGER(), table=<census>), Column('pop2000', INTEGER(), table=<census>), Column('pop2008', INTEGER(), table=<census>), schema=None)\n"
     ]
    }
   ],
   "source": [
    "import sqlalchemy as db\n",
    "\n",
    "engine = db.create_engine('sqlite:///sqlAlchemy_sample_data/census.sqlite')\n",
    "\n",
    "connection = engine.connect()\n",
    "metadata = db.MetaData()\n",
    "\n",
    "census = db.Table('census',metadata,autoload=True,autoload_with=engine)\n",
    "\n",
    "#輸出欄位名稱\n",
    "print(census.columns.keys())\n",
    "\n",
    "#列印city table的metadata\n",
    "print(repr(metadata.tables['census']))\n",
    "\n",
    "\n"
   ]
  },
  {
   "cell_type": "code",
   "execution_count": 34,
   "metadata": {},
   "outputs": [
    {
     "name": "stdout",
     "output_type": "stream",
     "text": [
      "[('Illinois', 'M', 0, 89600, 95012), ('Illinois', 'M', 1, 88445, 91829), ('Illinois', 'M', 2, 88729, 89547), ('Illinois', 'M', 3, 88868, 90037), ('Illinois', 'M', 4, 91947, 91111)]\n"
     ]
    }
   ],
   "source": [
    "#建立query物件\n",
    "query = db.select([census])\n",
    "resultProxy = connection.execute(query)\n",
    "\n",
    "#取出所有資料\n",
    "resultSet = resultProxy.fetchall()\n",
    "\n",
    "#取出前5筆\n",
    "print(resultSet[:5])"
   ]
  },
  {
   "cell_type": "code",
   "execution_count": null,
   "metadata": {},
   "outputs": [],
   "source": [
    "#建立query物件\n",
    "query = db.select([census])\n",
    "resultProxy = connection.execute(query)\n",
    "\n",
    "while True:\n",
    "    partial_results = resultProxy.fetchmany(5)\n",
    "    if(partial_results == []):\n",
    "        break\n",
    "    print(partial_results)\n",
    "    \n",
    "resultProxy.close()"
   ]
  },
  {
   "cell_type": "code",
   "execution_count": 36,
   "metadata": {},
   "outputs": [
    {
     "name": "stdout",
     "output_type": "stream",
     "text": [
      "('Illinois', 'F', 0, 85910, 90286)\n"
     ]
    }
   ],
   "source": [
    "#建立query物件\n",
    "'''\n",
    "SELECT * FROM census \n",
    "WHERE sex = F\n",
    "'''\n",
    "query = db.select([census]).where(census.columns.sex == 'F')\n",
    "resultProxy = connection.execute(query)\n",
    "\n",
    "#取出所有資料\n",
    "resultSet = resultProxy.fetchone()\n",
    "print(resultSet)"
   ]
  },
  {
   "cell_type": "code",
   "execution_count": null,
   "metadata": {},
   "outputs": [],
   "source": [
    "#建立query物件\n",
    "'''\n",
    "SELECT state, sex\n",
    "FROM census\n",
    "WHERE state IN (Texas, New York)\n",
    "'''\n",
    "query = db.select([census.columns.state, census.columns.sex]).where(census.columns.state.in_(['Texas', 'New York']))\n",
    "resultProxy = connection.execute(query)\n",
    "\n",
    "#取出所有資料\n",
    "resultSet = resultProxy.fetchall()\n",
    "print(resultSet)"
   ]
  },
  {
   "cell_type": "code",
   "execution_count": null,
   "metadata": {},
   "outputs": [],
   "source": [
    "#建立query物件\n",
    "'''\n",
    "SELECT * FROM census\n",
    "WHERE state = 'California' AND NOT sex = 'M'\n",
    "'''\n",
    "query = db.select([census]).where(db.and_(census.columns.state == 'California', census.columns.sex != 'M'))\n",
    "resultProxy = connection.execute(query)\n",
    "\n",
    "#取出所有資料\n",
    "resultSet = resultProxy.fetchall()\n",
    "print(resultSet)"
   ]
  },
  {
   "cell_type": "code",
   "execution_count": null,
   "metadata": {},
   "outputs": [],
   "source": [
    "#建立query物件\n",
    "'''\n",
    "SELECT * FROM census\n",
    "ORDER BY State DESC, pop2000\n",
    "'''\n",
    "query = db.select([census]).order_by(db.desc(census.columns.state), census.columns.pop2000)\n",
    "resultProxy = connection.execute(query)\n",
    "\n",
    "#取出所有資料\n",
    "resultSet = resultProxy.fetchall()\n",
    "print(resultSet)"
   ]
  },
  {
   "cell_type": "code",
   "execution_count": 40,
   "metadata": {},
   "outputs": [
    {
     "name": "stdout",
     "output_type": "stream",
     "text": [
      "(302876613,)\n"
     ]
    }
   ],
   "source": [
    "#建立query物件\n",
    "'''\n",
    "SELECT SUM(pop2008)\n",
    "FROM census\n",
    "'''\n",
    "query = db.select([db.func.sum(census.columns.pop2008)])\n",
    "resultProxy = connection.execute(query)\n",
    "\n",
    "#取出所有資料\n",
    "resultSet = resultProxy.fetchone()\n",
    "print(resultSet)"
   ]
  },
  {
   "cell_type": "code",
   "execution_count": 42,
   "metadata": {},
   "outputs": [
    {
     "name": "stdout",
     "output_type": "stream",
     "text": [
      "[(153959198, 'F'), (148917415, 'M')]\n"
     ]
    }
   ],
   "source": [
    "#建立query物件\n",
    "'''\n",
    "SELECT SUM(pop2008) as pop2008, sex\n",
    "FROM census\n",
    "Group by sex\n",
    "'''\n",
    "query = db.select([db.func.sum(census.columns.pop2008).label('pop2008'), census.columns.sex]).group_by(census.columns.sex)\n",
    "resultProxy = connection.execute(query)\n",
    "\n",
    "#取出所有資料\n",
    "resultSet = resultProxy.fetchall()\n",
    "print(resultSet)"
   ]
  },
  {
   "cell_type": "code",
   "execution_count": 43,
   "metadata": {},
   "outputs": [
    {
     "name": "stdout",
     "output_type": "stream",
     "text": [
      "[('Illinois',), ('New Jersey',), ('District of Columbia',), ('North Dakota',), ('Florida',), ('Maryland',), ('Idaho',), ('Massachusetts',), ('Oregon',), ('Nevada',), ('Michigan',), ('Wisconsin',), ('Missouri',), ('Washington',), ('North Carolina',), ('Arizona',), ('Arkansas',), ('Colorado',), ('Indiana',), ('Pennsylvania',), ('Hawaii',), ('Kansas',), ('Louisiana',), ('Alabama',), ('Minnesota',), ('South Dakota',), ('New York',), ('California',), ('Connecticut',), ('Ohio',), ('Rhode Island',), ('Georgia',), ('South Carolina',), ('Alaska',), ('Delaware',), ('Tennessee',), ('Vermont',), ('Montana',), ('Kentucky',), ('Utah',), ('Nebraska',), ('West Virginia',), ('Iowa',), ('Wyoming',), ('Maine',), ('New Hampshire',), ('Mississippi',), ('Oklahoma',), ('New Mexico',), ('Virginia',), ('Texas',)]\n"
     ]
    }
   ],
   "source": [
    "#建立query物件\n",
    "'''\n",
    "SELECT DISTINCT state\n",
    "FROM census\n",
    "'''\n",
    "query = db.select([census.columns.state.distinct()])\n",
    "resultProxy = connection.execute(query)\n",
    "\n",
    "#取出所有資料\n",
    "resultSet = resultProxy.fetchall()\n",
    "print(resultSet)"
   ]
  }
 ],
 "metadata": {
  "kernelspec": {
   "display_name": "venv05",
   "language": "python",
   "name": "python3"
  },
  "language_info": {
   "codemirror_mode": {
    "name": "ipython",
    "version": 3
   },
   "file_extension": ".py",
   "mimetype": "text/x-python",
   "name": "python",
   "nbconvert_exporter": "python",
   "pygments_lexer": "ipython3",
   "version": "3.10.6 (v3.10.6:9c7b4bd164, Aug  1 2022, 17:13:48) [Clang 13.0.0 (clang-1300.0.29.30)]"
  },
  "orig_nbformat": 4,
  "vscode": {
   "interpreter": {
    "hash": "85c44cad9f5d14724dda7a6d7f0e4971d2a809ed59c2c40b9225ea77a670a3d5"
   }
  }
 },
 "nbformat": 4,
 "nbformat_minor": 2
}
